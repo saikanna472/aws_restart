{
  "nbformat": 4,
  "nbformat_minor": 0,
  "metadata": {
    "colab": {
      "provenance": [],
      "name": "python course0.ipynb",
      "authorship_tag": "ABX9TyO6j4kkimZAzznYL9Hv5LH6",
      "include_colab_link": true
    },
    "kernelspec": {
      "name": "python3",
      "display_name": "Python 3"
    },
    "language_info": {
      "name": "python"
    }
  },
  "cells": [
    {
      "cell_type": "markdown",
      "metadata": {
        "id": "view-in-github",
        "colab_type": "text"
      },
      "source": [
        "<a href=\"https://colab.research.google.com/github/saikanna472/aws_restart/blob/main/python_course0.ipynb\" target=\"_parent\"><img src=\"https://colab.research.google.com/assets/colab-badge.svg\" alt=\"Open In Colab\"/></a>"
      ]
    },
    {
      "cell_type": "code",
      "execution_count": null,
      "metadata": {
        "colab": {
          "base_uri": "https://localhost:8080/"
        },
        "id": "rsbj2Sed92Rg",
        "outputId": "e132b1fe-3adf-424e-c408-98d767485fba"
      },
      "outputs": [
        {
          "output_type": "execute_result",
          "data": {
            "text/plain": [
              "2"
            ]
          },
          "metadata": {},
          "execution_count": 1
        }
      ],
      "source": [
        "1+1\n"
      ]
    },
    {
      "cell_type": "code",
      "source": [],
      "metadata": {
        "id": "EERPbTLK6j2j"
      },
      "execution_count": null,
      "outputs": []
    },
    {
      "cell_type": "code",
      "source": [
        "8*3"
      ],
      "metadata": {
        "colab": {
          "base_uri": "https://localhost:8080/"
        },
        "id": "StMKo-mN-JvA",
        "outputId": "b3f59dc7-a89a-4e7a-b434-9a7f89b6f6f4"
      },
      "execution_count": null,
      "outputs": [
        {
          "output_type": "execute_result",
          "data": {
            "text/plain": [
              "24"
            ]
          },
          "metadata": {},
          "execution_count": 2
        }
      ]
    },
    {
      "cell_type": "code",
      "source": [
        "tell = 11\n",
        "tell2=22\n",
        "new_tell= (tell2)\n",
        "print (new_tell)"
      ],
      "metadata": {
        "colab": {
          "base_uri": "https://localhost:8080/"
        },
        "id": "DhX4-9lKC2Xo",
        "outputId": "b90a9870-8c31-4d53-fd7d-94c0aa754bdf"
      },
      "execution_count": null,
      "outputs": [
        {
          "output_type": "stream",
          "name": "stdout",
          "text": [
            "22\n"
          ]
        }
      ]
    },
    {
      "cell_type": "code",
      "source": [
        "import keyword\n",
        "keyword.kwlist"
      ],
      "metadata": {
        "colab": {
          "base_uri": "https://localhost:8080/"
        },
        "id": "sNT2gs33GlCz",
        "outputId": "d17ed3f4-325a-4a07-8de3-832f47e7bfda"
      },
      "execution_count": null,
      "outputs": [
        {
          "output_type": "execute_result",
          "data": {
            "text/plain": [
              "['False',\n",
              " 'None',\n",
              " 'True',\n",
              " 'and',\n",
              " 'as',\n",
              " 'assert',\n",
              " 'async',\n",
              " 'await',\n",
              " 'break',\n",
              " 'class',\n",
              " 'continue',\n",
              " 'def',\n",
              " 'del',\n",
              " 'elif',\n",
              " 'else',\n",
              " 'except',\n",
              " 'finally',\n",
              " 'for',\n",
              " 'from',\n",
              " 'global',\n",
              " 'if',\n",
              " 'import',\n",
              " 'in',\n",
              " 'is',\n",
              " 'lambda',\n",
              " 'nonlocal',\n",
              " 'not',\n",
              " 'or',\n",
              " 'pass',\n",
              " 'raise',\n",
              " 'return',\n",
              " 'try',\n",
              " 'while',\n",
              " 'with',\n",
              " 'yield']"
            ]
          },
          "metadata": {},
          "execution_count": 11
        }
      ]
    },
    {
      "cell_type": "code",
      "source": [
        "a=10\n",
        "b=20\n",
        "a+b, a-b, a*b, a/b, a//b, b%a, a**b, a==b, a!=b, b>a\n",
        "c = a+b\n",
        "print (c)\n",
        "d= 11.5\n",
        "type(d)\n",
        "\n",
        "\n"
      ],
      "metadata": {
        "colab": {
          "base_uri": "https://localhost:8080/"
        },
        "id": "FlhJWJQxHAfq",
        "outputId": "3a2d5a72-dfce-44c2-904d-9905df7e9a51"
      },
      "execution_count": null,
      "outputs": [
        {
          "output_type": "stream",
          "name": "stdout",
          "text": [
            "30\n"
          ]
        },
        {
          "output_type": "execute_result",
          "data": {
            "text/plain": [
              "float"
            ]
          },
          "metadata": {},
          "execution_count": 15
        }
      ]
    },
    {
      "cell_type": "code",
      "source": [
        "#Boolean\n",
        "print ( type(True), type(False) )\n",
        "print (True+True)\n",
        "True+True+False+False"
      ],
      "metadata": {
        "colab": {
          "base_uri": "https://localhost:8080/"
        },
        "id": "TRmbGPUlaffg",
        "outputId": "06513471-20b8-4214-f4a4-b64879b7d785"
      },
      "execution_count": null,
      "outputs": [
        {
          "output_type": "stream",
          "name": "stdout",
          "text": [
            "<class 'bool'> <class 'bool'>\n",
            "2\n"
          ]
        },
        {
          "output_type": "execute_result",
          "data": {
            "text/plain": [
              "2"
            ]
          },
          "metadata": {},
          "execution_count": 19
        }
      ]
    },
    {
      "cell_type": "code",
      "source": [
        "#Strings\n",
        "Name = \"kanna\"\n",
        "print(Name[0]) #Indexing starts with 0\n",
        "print(Name[1:4]) #last number is excluded\n",
        "print(Name[-2]) #indexing starts from reverse from -1\n",
        "print(Name[-5:-2]) #excludes -2\n",
        "print(Name *2) #prints two times\n",
        "\n",
        "#Concatination of string\n",
        "print(Name + \"Sai\") #concatination of strings\n",
        "a= Name + \"Sai\"\n",
        "print (a)\n",
        "print(len(a))\n",
        "\n",
        "\n"
      ],
      "metadata": {
        "colab": {
          "base_uri": "https://localhost:8080/"
        },
        "id": "R4MLah1wXSpg",
        "outputId": "6590b8ea-4d90-48cf-b328-d97864948461"
      },
      "execution_count": null,
      "outputs": [
        {
          "output_type": "stream",
          "name": "stdout",
          "text": [
            "k\n",
            "ann\n",
            "n\n",
            "kan\n",
            "kannakanna\n",
            "kannaSai\n",
            "kannaSai\n",
            "8\n"
          ]
        }
      ]
    },
    {
      "cell_type": "code",
      "source": [
        "#Slicing of string\n",
        "Mosby = \"The best architect\"\n",
        "#Slicing (indexing) ---> str[start:stop:step]\n",
        "print(Mosby[::1]) #no changes\n",
        "print(Mosby[::2])#one index jump\n",
        "print(Mosby[::3]) #Two index jump\n",
        "print(Mosby[4::2])#starts 4th index, one index jump\n"
      ],
      "metadata": {
        "colab": {
          "base_uri": "https://localhost:8080/"
        },
        "id": "G5fFxXE5hFh1",
        "outputId": "2026faf3-2930-44e1-944c-8a670bd2b7b5"
      },
      "execution_count": null,
      "outputs": [
        {
          "output_type": "stream",
          "name": "stdout",
          "text": [
            "The best architect\n",
            "Tebs rhtc\n",
            "T sahe\n",
            "bs rhtc\n"
          ]
        }
      ]
    },
    {
      "cell_type": "code",
      "source": [
        "#Reversing\n",
        "print(Mosby[::-1])#no chnages but reverses\n",
        "print(Mosby[1:5])"
      ],
      "metadata": {
        "colab": {
          "base_uri": "https://localhost:8080/"
        },
        "id": "HToW6Gicd0xb",
        "outputId": "f5a6438c-e128-4a26-917b-3e599cacf0fa"
      },
      "execution_count": null,
      "outputs": [
        {
          "output_type": "stream",
          "name": "stdout",
          "text": [
            "tcetihcra tseb ehT\n",
            "he b\n"
          ]
        }
      ]
    },
    {
      "cell_type": "code",
      "source": [
        "#Update string\n",
        "var = 'Hello World!' #string can be in '' or\"\"\n",
        "print (\"update streing:-\", var + \"Python\")\n",
        "print (\"update streing:-\", var[:6] + \"Python\")"
      ],
      "metadata": {
        "colab": {
          "base_uri": "https://localhost:8080/"
        },
        "id": "Fz0YvxFBikUx",
        "outputId": "44df1a50-46f2-49e8-ba23-bf545d95f712"
      },
      "execution_count": null,
      "outputs": [
        {
          "output_type": "stream",
          "name": "stdout",
          "text": [
            "update streing:- Hello World!Python\n",
            "update streing:- Hello Python\n"
          ]
        }
      ]
    },
    {
      "cell_type": "code",
      "source": [
        "# Listing\n",
        "string = \"This is Python\"\n",
        "st = list(string)\n",
        "print(st)\n",
        "\n",
        "#formatting\n",
        "\n",
        "var = \"%.2f %s is %s $%d\"\n",
        "print(var %(7.8440, \"Python\", \"caught\", 23))\n",
        "\n",
        "#String formatting\n",
        "print(\"My name is %s and weight is @ %d kgs!\" %(\"Python\", 67))\n"
      ],
      "metadata": {
        "colab": {
          "base_uri": "https://localhost:8080/"
        },
        "id": "NqvrNcankZPr",
        "outputId": "b96ace57-6120-4924-ad9c-49c7b7f416e3"
      },
      "execution_count": null,
      "outputs": [
        {
          "output_type": "stream",
          "name": "stdout",
          "text": [
            "['T', 'h', 'i', 's', ' ', 'i', 's', ' ', 'P', 'y', 't', 'h', 'o', 'n']\n",
            "7.84 Python is caught $23\n",
            "My name is Python and weight is @ 67 kgs!\n"
          ]
        }
      ]
    },
    {
      "cell_type": "code",
      "source": [
        "#Input and Formt usage\n",
        "\n",
        "Name = input(\"Enter name: \")\n",
        "Weight = eval(input(\"Enter Weight: \"))\n",
        "print(\"My name is %s and weight is %d\" %(Name, Weight))\n",
        "type (Weight)"
      ],
      "metadata": {
        "colab": {
          "base_uri": "https://localhost:8080/"
        },
        "id": "X-Q6X53gnPfA",
        "outputId": "2f52b232-2b50-4f2c-ad08-372caba08356"
      },
      "execution_count": null,
      "outputs": [
        {
          "output_type": "stream",
          "name": "stdout",
          "text": [
            "Enter name: kanna\n",
            "Enter Weight: 71\n",
            "My name is kanna and weight is 71\n"
          ]
        },
        {
          "output_type": "execute_result",
          "data": {
            "text/plain": [
              "int"
            ]
          },
          "metadata": {},
          "execution_count": 56
        }
      ]
    },
    {
      "cell_type": "code",
      "source": [
        "#Quoting\n",
        "Statement = \"\"\" My name is 'Sai' and age is \"25\". \"\"\" #String can be triple, double or single quoted\n",
        "print(Statement)\n",
        "type(Statement)"
      ],
      "metadata": {
        "colab": {
          "base_uri": "https://localhost:8080/"
        },
        "id": "hZY2lEy9qx71",
        "outputId": "4931b5f7-3f98-40c2-9931-3c913ecc3ed4"
      },
      "execution_count": null,
      "outputs": [
        {
          "output_type": "stream",
          "name": "stdout",
          "text": [
            " My name is 'Sai' and age is \"25\". \n"
          ]
        },
        {
          "output_type": "execute_result",
          "data": {
            "text/plain": [
              "str"
            ]
          },
          "metadata": {},
          "execution_count": 58
        }
      ]
    },
    {
      "cell_type": "code",
      "source": [
        "#Upper and lower case conversion\n",
        "\n",
        "Name = \"Kanna\"\n",
        "print(type(Name))\n",
        "print(Name.capitalize()) #First letter capital\n",
        "print(Name.upper())\n",
        "print(Name.lower())\n",
        "print(Name.swapcase())\n",
        "print(Name.center(50)) #string in ceter\n",
        "#Strip\n",
        "Name1 = '       Kanna       '\n",
        "print(Name1.strip())#remove space\n",
        "print(Name1.lstrip())#remove left space\n",
        "print(Name1.rstrip())\n"
      ],
      "metadata": {
        "colab": {
          "base_uri": "https://localhost:8080/"
        },
        "id": "c_AuSebvrV9-",
        "outputId": "9e998031-83aa-47d4-e0b8-644f63514ad8"
      },
      "execution_count": null,
      "outputs": [
        {
          "output_type": "stream",
          "name": "stdout",
          "text": [
            "<class 'str'>\n",
            "Kanna\n",
            "KANNA\n",
            "kanna\n",
            "kANNA\n",
            "                      Kanna                       \n",
            "Kanna\n",
            "Kanna       \n",
            "       Kanna\n"
          ]
        }
      ]
    },
    {
      "cell_type": "code",
      "source": [
        "#count()---inbuilt variable. counts and returns no.of occurences of substring in a string\n",
        "string = \"gvdxyew is python programmer\" #define string\n",
        "substring = \"g\" # define substring\n",
        "count = string.count(substring)\n",
        "count1 = string.count(substring, 8, 23) #count g between 8 till 23 characters\n",
        "print(count, count1)"
      ],
      "metadata": {
        "colab": {
          "base_uri": "https://localhost:8080/"
        },
        "id": "iZwVhNGAu6Du",
        "outputId": "1c384a60-ed2a-4181-d0d4-5ee9276f72bf"
      },
      "execution_count": null,
      "outputs": [
        {
          "output_type": "stream",
          "name": "stdout",
          "text": [
            "2 1\n"
          ]
        }
      ]
    },
    {
      "cell_type": "code",
      "source": [
        "#isalnum() used for string is alpha num or not\n",
        "Num= \"thisis1\"\n",
        "Numb = \"this is\"\n",
        "Num2 = \"128336\"\n",
        "print(Num.isalpha()) #for alphanumeric\n",
        "print(Num.isalnum())\n",
        "print(Numb.isalnum())\n",
        "print(Numb.isalpha()) #for alphabets only\n",
        "print(Num2.isdigit()) #for numbers\n",
        "print(type(Num), type(Num1), type(Num2))\n",
        "\n"
      ],
      "metadata": {
        "colab": {
          "base_uri": "https://localhost:8080/"
        },
        "id": "JCsYtrqXwrSR",
        "outputId": "83134961-a719-47dd-e9d6-f05a14aac5a2"
      },
      "execution_count": null,
      "outputs": [
        {
          "output_type": "stream",
          "name": "stdout",
          "text": [
            "False\n",
            "True\n",
            "False\n",
            "False\n",
            "True\n",
            "<class 'str'> <class 'str'> <class 'str'>\n"
          ]
        }
      ]
    },
    {
      "cell_type": "code",
      "source": [
        "#Replacemet method use inbuilt --- replace()\n",
        "reply = \"This is ubdcube3 jhw is hdv is is is\"\n",
        "print(reply.replace(\"is\", \"was\"))\n",
        "print(reply.replace(\"is\", \"was\", 3)) #replace(replace string, Replace with, No. of instance)\n",
        "print(\"@\".join(reply))#join each characters in string with other string \"@\""
      ],
      "metadata": {
        "colab": {
          "base_uri": "https://localhost:8080/"
        },
        "id": "_hvOtkqm0EmL",
        "outputId": "cc2bba80-af1b-4199-e083-3069d025788e"
      },
      "execution_count": null,
      "outputs": [
        {
          "output_type": "stream",
          "name": "stdout",
          "text": [
            "Thwas was ubdcube3 jhw was hdv was was was\n",
            "Thwas was ubdcube3 jhw was hdv is is is\n",
            "T@h@i@s@ @i@s@ @u@b@d@c@u@b@e@3@ @j@h@w@ @i@s@ @h@d@v@ @i@s@ @i@s@ @i@s\n"
          ]
        }
      ]
    },
    {
      "cell_type": "code",
      "source": [
        "#Split method -- split(). Splits the space and /n new line character\n",
        "sp = \"iehfuhf wiqdhd\\n uegf23 \\neufg jecue\"\n",
        "print(sp.split())\n",
        "print(sp.split(None,2))\n",
        " #first two space or /n will beconsidered"
      ],
      "metadata": {
        "colab": {
          "base_uri": "https://localhost:8080/"
        },
        "id": "DKOrxscz12-m",
        "outputId": "b9ee7fb3-cf8f-4f28-eb88-24a8a4f3d3f1"
      },
      "execution_count": null,
      "outputs": [
        {
          "output_type": "stream",
          "name": "stdout",
          "text": [
            "['iehfuhf', 'wiqdhd', 'uegf23', 'eufg', 'jecue']\n",
            "['iehfuhf', 'wiqdhd', 'uegf23 \\neufg jecue']\n"
          ]
        }
      ]
    },
    {
      "cell_type": "code",
      "source": [
        "#position in string\n",
        "x = \"hegf dugduwduwb : 6545456.08876\"\n",
        "pos = x.find(\":\")\n",
        "print(pos)\n",
        "num = float(x[pos+1:]) #x[start position: stop position]\n",
        "print(num, type(num))"
      ],
      "metadata": {
        "colab": {
          "base_uri": "https://localhost:8080/"
        },
        "id": "zyB9KsbD40RS",
        "outputId": "e3c96263-a602-45ea-ece0-623da864ccc0"
      },
      "execution_count": 1,
      "outputs": [
        {
          "output_type": "stream",
          "name": "stdout",
          "text": [
            "16\n",
            "6545456.08876 <class 'float'>\n"
          ]
        }
      ]
    },
    {
      "cell_type": "code",
      "source": [
        "#List that contain elements seperated by commas in square brackets\n",
        "list1 = [\"Nishd\", \"jdeudg\", 2011, 29]\n",
        "print(list1)\n",
        "print(len(list1))\n",
        "#Access list using index\n",
        "print(list1[1])\n",
        "print(list1[:3])\n",
        "print(list1[1:4])\n",
        "print(list1[::-1]) #reverse order\n",
        "list1.append(2100) #add element\n",
        "print(list1)\n",
        "list1.remove(2100) #remove element\n",
        "print(list1)\n",
        "print(list1.pop()) #remove existing last element\n",
        "print(list1)\n",
        "list1.append(29)\n",
        "print(list1)\n",
        "print(list1.pop(0)) #remove element in given index\n",
        "print(list1)\n",
        "list1.insert(3, 2100) #insert 2100 in 3rd index\n",
        "print(list1)\n",
        "\n",
        "\n",
        "\n"
      ],
      "metadata": {
        "colab": {
          "base_uri": "https://localhost:8080/"
        },
        "id": "8NXNgUzz6m6A",
        "outputId": "4199ab73-b290-47c5-ca7f-d76e890e5d08"
      },
      "execution_count": 15,
      "outputs": [
        {
          "output_type": "stream",
          "name": "stdout",
          "text": [
            "['Nishd', 'jdeudg', 2011, 29]\n",
            "4\n",
            "jdeudg\n",
            "['Nishd', 'jdeudg', 2011]\n",
            "['jdeudg', 2011, 29]\n",
            "[29, 2011, 'jdeudg', 'Nishd']\n",
            "['Nishd', 'jdeudg', 2011, 29, 2100]\n",
            "['Nishd', 'jdeudg', 2011, 29]\n",
            "29\n",
            "['Nishd', 'jdeudg', 2011]\n",
            "['Nishd', 'jdeudg', 2011, 29]\n",
            "Nishd\n",
            "['jdeudg', 2011, 29]\n",
            "['jdeudg', 2011, 29, 2100]\n"
          ]
        }
      ]
    },
    {
      "cell_type": "code",
      "source": [
        "#Extend lists using two or more lists\n",
        "alist = [123, \"hdgdyhd\", 233, \"tommy\", 44]\n",
        "blist = [\"abc\", 767]\n",
        "print(alist * 2)\n",
        "print(alist + blist)\n",
        "alist.extend(blist) #extending alist\n",
        "blist.extend(alist) #extending blist\n",
        "alist, blist"
      ],
      "metadata": {
        "colab": {
          "base_uri": "https://localhost:8080/"
        },
        "id": "pKqeHZsUW3tr",
        "outputId": "899dcc92-8608-47a0-c155-1581c4b9c439"
      },
      "execution_count": 16,
      "outputs": [
        {
          "output_type": "stream",
          "name": "stdout",
          "text": [
            "[123, 'hdgdyhd', 233, 'tommy', 44, 123, 'hdgdyhd', 233, 'tommy', 44]\n",
            "[123, 'hdgdyhd', 233, 'tommy', 44, 'abc', 767]\n"
          ]
        },
        {
          "output_type": "execute_result",
          "data": {
            "text/plain": [
              "([123, 'hdgdyhd', 233, 'tommy', 44, 'abc', 767],\n",
              " ['abc', 767, 123, 'hdgdyhd', 233, 'tommy', 44, 'abc', 767])"
            ]
          },
          "metadata": {},
          "execution_count": 16
        }
      ]
    },
    {
      "cell_type": "code",
      "source": [
        "#Reverse\n",
        "list1 = [11, 222, \"ahs\", \"aajhd\"]\n",
        "list1.reverse() #reverse the list\n",
        "list1\n",
        "\n"
      ],
      "metadata": {
        "colab": {
          "base_uri": "https://localhost:8080/"
        },
        "id": "wk6FBPaTYgRK",
        "outputId": "462c031d-0d4c-41c9-8f29-f3fe61c75242"
      },
      "execution_count": 19,
      "outputs": [
        {
          "output_type": "execute_result",
          "data": {
            "text/plain": [
              "['aajhd', 'ahs', 222, 11]"
            ]
          },
          "metadata": {},
          "execution_count": 19
        }
      ]
    },
    {
      "cell_type": "code",
      "source": [
        "# Sort: sorting list in ascending or descending\n",
        "list1 = [1,22,442,113]\n",
        "list1.sort() # sorting numbers in ascending, where reverse is default false\n",
        "print(list1)\n",
        "list1.sort(reverse = True) #sort in descending\n",
        "print(list1)\n",
        "\n",
        "#Another Sorting\n",
        "list2 = [2,93,33,29]\n",
        "list3 = sorted(list2) #sorting and assigning to variable\n",
        "print(list3)\n",
        "list3 = sorted(list2, reverse = True)\n",
        "print(list3)\n",
        "print(max(list3))\n",
        "print(min(list1))\n",
        "\n",
        "#sorting string using the len and alphabets\n",
        "\n",
        "list4 = ['klm', 'lmn', 'hijd', 'abcg']\n",
        "print(sorted(list4, key=len)) #making use of inbuilt function \"len\"\n",
        "list5 = ['abcg', 'eff', 'hijd', 'lmi']\n",
        "def fun(l):        #syntax\n",
        "  return l[-1]   #sorted using last index value d,f,g,i\n",
        "print(sorted(list5, key=fun, reverse=True)) #making use of user defined function \"fun"
      ],
      "metadata": {
        "colab": {
          "base_uri": "https://localhost:8080/"
        },
        "id": "Wz6afc8WZJTJ",
        "outputId": "19c0e710-09b2-4a70-d3ec-16d3324cd36c"
      },
      "execution_count": 49,
      "outputs": [
        {
          "output_type": "stream",
          "name": "stdout",
          "text": [
            "[1, 22, 113, 442]\n",
            "[442, 113, 22, 1]\n",
            "[2, 29, 33, 93]\n",
            "[93, 33, 29, 2]\n",
            "93\n",
            "1\n",
            "['klm', 'lmn', 'hijd', 'abcg']\n",
            "['lmi', 'abcg', 'eff', 'hijd']\n"
          ]
        }
      ]
    },
    {
      "cell_type": "code",
      "source": [],
      "metadata": {
        "id": "aSqRvG6Kjk3h"
      },
      "execution_count": null,
      "outputs": []
    },
    {
      "cell_type": "code",
      "source": [
        "# count\n",
        "list1 = [1, 228, \"abc\", 28, \"abc\"]\n",
        "print(list1.count('abc')) #count the value in list\n",
        "print(list1.index(\"abc\")) #gives index of elem\n",
        "type(list1)\n"
      ],
      "metadata": {
        "colab": {
          "base_uri": "https://localhost:8080/"
        },
        "id": "MRg4Dvb7bzgu",
        "outputId": "6d6571e6-5bce-477e-a086-b0bacb0faf67"
      },
      "execution_count": 30,
      "outputs": [
        {
          "output_type": "stream",
          "name": "stdout",
          "text": [
            "2\n",
            "2\n"
          ]
        },
        {
          "output_type": "execute_result",
          "data": {
            "text/plain": [
              "list"
            ]
          },
          "metadata": {},
          "execution_count": 30
        }
      ]
    },
    {
      "cell_type": "code",
      "source": [
        "#list are mutable where elements can be replaced\n",
        "#tuples are immutable, where elements are irreplceble\n",
        "#tuple use normal brackets, where list use square\n",
        "tup1 = (1, 2, 3, 4, 5)\n",
        "tup2 = ('abcd', 'shgdyd', 6, 'ysgtd', 9, 12)\n",
        "tup3 = ()\n",
        "print(tup1)\n",
        "print(tup2[1:5])\n",
        "print(tup3)\n",
        "tup3 = tup1 + tup2\n",
        "print(tup3)\n",
        "del(tup3[2])\n",
        "print(tup3) #Cannot run as tupple element cannot be deleted or replaceble\n",
        "#but whole tupple can be deleted using #del(tup3)\n"
      ],
      "metadata": {
        "colab": {
          "base_uri": "https://localhost:8080/",
          "height": 305
        },
        "id": "6-xRG1v5c2Dv",
        "outputId": "6f6bd2eb-5017-42f0-b531-549b797f9920"
      },
      "execution_count": 55,
      "outputs": [
        {
          "output_type": "stream",
          "name": "stdout",
          "text": [
            "(1, 2, 3, 4, 5)\n",
            "('shgdyd', 6, 'ysgtd', 9)\n",
            "()\n",
            "(1, 2, 3, 4, 5, 'abcd', 'shgdyd', 6, 'ysgtd', 9, 12)\n"
          ]
        },
        {
          "output_type": "error",
          "ename": "TypeError",
          "evalue": "ignored",
          "traceback": [
            "\u001b[0;31m---------------------------------------------------------------------------\u001b[0m",
            "\u001b[0;31mTypeError\u001b[0m                                 Traceback (most recent call last)",
            "\u001b[0;32m<ipython-input-55-964bfd29c6b6>\u001b[0m in \u001b[0;36m<cell line: 12>\u001b[0;34m()\u001b[0m\n\u001b[1;32m     10\u001b[0m \u001b[0mtup3\u001b[0m \u001b[0;34m=\u001b[0m \u001b[0mtup1\u001b[0m \u001b[0;34m+\u001b[0m \u001b[0mtup2\u001b[0m\u001b[0;34m\u001b[0m\u001b[0;34m\u001b[0m\u001b[0m\n\u001b[1;32m     11\u001b[0m \u001b[0mprint\u001b[0m\u001b[0;34m(\u001b[0m\u001b[0mtup3\u001b[0m\u001b[0;34m)\u001b[0m\u001b[0;34m\u001b[0m\u001b[0;34m\u001b[0m\u001b[0m\n\u001b[0;32m---> 12\u001b[0;31m \u001b[0;32mdel\u001b[0m\u001b[0;34m(\u001b[0m\u001b[0mtup3\u001b[0m\u001b[0;34m[\u001b[0m\u001b[0;36m2\u001b[0m\u001b[0;34m]\u001b[0m\u001b[0;34m)\u001b[0m\u001b[0;34m\u001b[0m\u001b[0;34m\u001b[0m\u001b[0m\n\u001b[0m\u001b[1;32m     13\u001b[0m \u001b[0mprint\u001b[0m\u001b[0;34m(\u001b[0m\u001b[0mtup3\u001b[0m\u001b[0;34m)\u001b[0m \u001b[0;31m#Cannot run as tupple element cannot be deleted or replaceble\u001b[0m\u001b[0;34m\u001b[0m\u001b[0;34m\u001b[0m\u001b[0m\n\u001b[1;32m     14\u001b[0m \u001b[0;34m\u001b[0m\u001b[0m\n",
            "\u001b[0;31mTypeError\u001b[0m: 'tuple' object doesn't support item deletion"
          ]
        }
      ]
    },
    {
      "cell_type": "code",
      "source": [
        "#Sets. unordered, unindexed, No duplication, represeted as {}\n",
        "#Frozen sets similiar to tupple which are not replaceble. represented by ()\n",
        "set1 = set(['a','b','c'])\n",
        "print(set1) #prints the elements unorderly as it is set\n",
        "#Adding\n",
        "set1.add('d')\n",
        "print(set1)\n",
        "set2 = frozenset(['e', 'f', 'g'])\n",
        "print(set2)\n",
        "set2.add('j')  #cannot add any element in frozen set\n"
      ],
      "metadata": {
        "colab": {
          "base_uri": "https://localhost:8080/",
          "height": 253
        },
        "id": "weGMF-P5l5Si",
        "outputId": "80b681c0-8d30-4d1d-f45a-fd0f38624172"
      },
      "execution_count": 4,
      "outputs": [
        {
          "output_type": "stream",
          "name": "stdout",
          "text": [
            "{'c', 'b', 'a'}\n",
            "{'c', 'd', 'b', 'a'}\n",
            "frozenset({'f', 'g', 'e'})\n"
          ]
        },
        {
          "output_type": "error",
          "ename": "AttributeError",
          "evalue": "ignored",
          "traceback": [
            "\u001b[0;31m---------------------------------------------------------------------------\u001b[0m",
            "\u001b[0;31mAttributeError\u001b[0m                            Traceback (most recent call last)",
            "\u001b[0;32m<ipython-input-4-dff76824adf5>\u001b[0m in \u001b[0;36m<cell line: 10>\u001b[0;34m()\u001b[0m\n\u001b[1;32m      8\u001b[0m \u001b[0mset2\u001b[0m \u001b[0;34m=\u001b[0m \u001b[0mfrozenset\u001b[0m\u001b[0;34m(\u001b[0m\u001b[0;34m[\u001b[0m\u001b[0;34m'e'\u001b[0m\u001b[0;34m,\u001b[0m \u001b[0;34m'f'\u001b[0m\u001b[0;34m,\u001b[0m \u001b[0;34m'g'\u001b[0m\u001b[0;34m]\u001b[0m\u001b[0;34m)\u001b[0m\u001b[0;34m\u001b[0m\u001b[0;34m\u001b[0m\u001b[0m\n\u001b[1;32m      9\u001b[0m \u001b[0mprint\u001b[0m\u001b[0;34m(\u001b[0m\u001b[0mset2\u001b[0m\u001b[0;34m)\u001b[0m\u001b[0;34m\u001b[0m\u001b[0;34m\u001b[0m\u001b[0m\n\u001b[0;32m---> 10\u001b[0;31m \u001b[0mset2\u001b[0m\u001b[0;34m.\u001b[0m\u001b[0madd\u001b[0m\u001b[0;34m(\u001b[0m\u001b[0;34m'j'\u001b[0m\u001b[0;34m)\u001b[0m\u001b[0;34m\u001b[0m\u001b[0;34m\u001b[0m\u001b[0m\n\u001b[0m",
            "\u001b[0;31mAttributeError\u001b[0m: 'frozenset' object has no attribute 'add'"
          ]
        }
      ]
    },
    {
      "cell_type": "code",
      "source": [
        "#Set operations\n",
        "set1 = set() #null set\n",
        "set2 = set()\n",
        "set3 = set(['d'])\n",
        "print (set1, set2, set3)\n",
        "#Add elements using for loop\n",
        "for i in range(1, 10):\n",
        "  set1.add(i)\n",
        "print(set1)\n",
        "for i in range(3, 10):  #last value- 10 not included\n",
        "  set2.add(i)\n",
        "print(set2)\n",
        "# Uninon and intersection operations of Sets\n",
        "set4 = set1 | set2  #union of sets, set1.union(set2), Or statement(|) is used\n",
        "print(\"Set4 is uninon of set1 & set2:\", set4)\n",
        "set5 = set1 & set2 #set1.intersection(set2). And (&) is used\n",
        "print(\"set 5 is intersection set1, set2:\", set5)\n",
        "#Relation between Sets, Superset: Subset: Same set\n",
        "if set4 > set5:\n",
        "  print(\"set4 is superset\")\n",
        "elif set4 < set5:\n",
        "  print(\"set4 is subset\")\n",
        "else : #both are equal sets set4 == set5\n",
        "  print(\"set4 is same as set5\")\n",
        "print (\"\\n\") #special char, new line\n",
        "\n",
        "if set5 < set4:\n",
        "  print(\"set5 is subset of set4\")\n",
        "  print(\"\\n\")\n",
        "set6 = set4 - set5 #difference of sets\n",
        "print(set6)\n",
        "if set5.isdisjoint(set6):\n",
        "  print(\"\\n\")\n",
        "  print(\"sets have no common element \\n\")\n",
        "# clearing elements\n",
        "set6.clear()\n",
        "print(\"cleared set6 is:\", set6)\n"
      ],
      "metadata": {
        "colab": {
          "base_uri": "https://localhost:8080/"
        },
        "id": "gha0mVno1szi",
        "outputId": "7362eaa6-4102-4309-9935-da0df70c7f94"
      },
      "execution_count": 30,
      "outputs": [
        {
          "output_type": "stream",
          "name": "stdout",
          "text": [
            "set() set() {'d'}\n",
            "{1, 2, 3, 4, 5, 6, 7, 8, 9}\n",
            "{3, 4, 5, 6, 7, 8, 9}\n",
            "Set4 is uninon of set1 & set2: {1, 2, 3, 4, 5, 6, 7, 8, 9}\n",
            "set 5 is intersection set1, set2: {3, 4, 5, 6, 7, 8, 9}\n",
            "set4 is superset\n",
            "\n",
            "\n",
            "set5 is subset of set4\n",
            "\n",
            "\n",
            "{1, 2}\n",
            "\n",
            "\n",
            "sets have no common element \n",
            "\n",
            "cleared set6 is: set()\n"
          ]
        }
      ]
    },
    {
      "cell_type": "code",
      "source": [
        "# Conditional statements: if , if else, elseif syntax\n",
        "x = 21\n",
        "y = 25\n",
        "if x >= 22:\n",
        "  print(\"if\")\n",
        "  print(\"one more\")\n",
        "elif x >= 21:\n",
        "  print(\"elif\")\n",
        "else:\n",
        "  print(\"else\")\n",
        "\n"
      ],
      "metadata": {
        "colab": {
          "base_uri": "https://localhost:8080/"
        },
        "id": "4QSoJwTizzv9",
        "outputId": "3dee8d36-78db-4b4c-9609-3a54f69d7de3"
      },
      "execution_count": 35,
      "outputs": [
        {
          "output_type": "stream",
          "name": "stdout",
          "text": [
            "elif\n"
          ]
        }
      ]
    },
    {
      "cell_type": "code",
      "source": [
        "# TEst element in list\n",
        "list1 = ['Ajay', 'Vijay', 'Bajey']\n",
        "if 'Vijay' in list1: print(\"found person\")"
      ],
      "metadata": {
        "colab": {
          "base_uri": "https://localhost:8080/"
        },
        "id": "3Ov444nS1q_L",
        "outputId": "95d426fb-f3e4-46c9-8b5e-5c66be6f1de4"
      },
      "execution_count": 3,
      "outputs": [
        {
          "output_type": "stream",
          "name": "stdout",
          "text": [
            "found person\n"
          ]
        }
      ]
    },
    {
      "cell_type": "code",
      "source": [
        "#Calculator program with 3 input tasks\n",
        "num1 = eval(input(\"Enter number: \"))\n",
        "operator = input(\"Enter (+,-,/,*,//,%) : \")\n",
        "num2 = eval(input(\"Enter sec num: \"))\n",
        "if operator == '+':\n",
        "  print(f'Addition is: {num1 + num2}')\n",
        "elif operator == '-':\n",
        "  print(f'Subtraction: {num1 - num2}')\n",
        "elif operator == '*':\n",
        "  print(f'Multiplication of {num1} and {num2}: {num1*num2}')\n",
        "else:\n",
        "  print(\"Wrong\")\n"
      ],
      "metadata": {
        "id": "_kVVj8MEcB4X",
        "outputId": "6cdad351-85e4-4071-ab8e-6a8b69c918a6",
        "colab": {
          "base_uri": "https://localhost:8080/"
        }
      },
      "execution_count": 7,
      "outputs": [
        {
          "output_type": "stream",
          "name": "stdout",
          "text": [
            "Enter number: 33\n",
            "Enter (+,-,/,*,//,%) : *\n",
            "Enter sec num: 3\n",
            "Multiplication of 33 and 3: 99\n"
          ]
        }
      ]
    },
    {
      "cell_type": "code",
      "source": [
        "#While loop\n",
        "count = 0\n",
        "while (count <9):\n",
        "  print(\"count is:\", count)\n",
        "  count = count+1\n",
        "print(\"End loop\")"
      ],
      "metadata": {
        "id": "qYi-o5Fwn-7n",
        "outputId": "6d2f6b79-fe0a-449e-8464-566962313a09",
        "colab": {
          "base_uri": "https://localhost:8080/"
        }
      },
      "execution_count": 9,
      "outputs": [
        {
          "output_type": "stream",
          "name": "stdout",
          "text": [
            "count is: 0\n",
            "count is: 1\n",
            "count is: 2\n",
            "count is: 3\n",
            "count is: 4\n",
            "count is: 5\n",
            "count is: 6\n",
            "count is: 7\n",
            "count is: 8\n",
            "End loop\n"
          ]
        }
      ]
    },
    {
      "cell_type": "code",
      "source": [
        "#for loop\n",
        "snacks = ['burger', 'pizza', 'shawarma', 'franky']\n",
        "for snack in snacks:\n",
        "  print(\"current snack:\", snack)"
      ],
      "metadata": {
        "id": "1OmPQNMbty-R",
        "outputId": "d5a9d4d5-cba5-46e2-d186-345130cfe195",
        "colab": {
          "base_uri": "https://localhost:8080/"
        }
      },
      "execution_count": 10,
      "outputs": [
        {
          "output_type": "stream",
          "name": "stdout",
          "text": [
            "current snack: burger\n",
            "current snack: pizza\n",
            "current snack: shawarma\n",
            "current snack: franky\n"
          ]
        }
      ]
    },
    {
      "cell_type": "code",
      "source": [
        "#Range function\n",
        "print(range(1,5,1)) #range(start, stop, step size-increment)\n",
        "print(list(range(0,15)))\n",
        "for i in range(1,6,2): #print every second number between 1 and 6\n",
        "  print(i) #prints odd numbers\n",
        "for i in range (0, 17, 2):\n",
        "  print(\"even number: \", i) #print even numbers\n",
        "#Adding all numbers in list\n",
        "numbers = [2, 3, 5]\n",
        "sum = 0\n",
        "for num in numbers:   #loop adds all numbers\n",
        "  sum += num  # sum = sum+num\n",
        "print(sum)\n",
        "#Adding number to each number in list\n",
        "getsum = [i+2 for i in numbers]\n",
        "print(getsum)\n",
        "#Adding using condition \"if\"\n",
        "getnum1 = [i+2 for i in numbers if i<5]\n",
        "print(getnum1)\n"
      ],
      "metadata": {
        "id": "oeZOGSyyuFOz",
        "outputId": "d860b63a-8edd-4d8b-9430-392891e27859",
        "colab": {
          "base_uri": "https://localhost:8080/"
        }
      },
      "execution_count": 17,
      "outputs": [
        {
          "output_type": "stream",
          "name": "stdout",
          "text": [
            "range(1, 5)\n",
            "[0, 1, 2, 3, 4, 5, 6, 7, 8, 9, 10, 11, 12, 13, 14]\n",
            "1\n",
            "3\n",
            "5\n",
            "even number:  0\n",
            "even number:  2\n",
            "even number:  4\n",
            "even number:  6\n",
            "even number:  8\n",
            "even number:  10\n",
            "even number:  12\n",
            "even number:  14\n",
            "even number:  16\n",
            "10\n",
            "[4, 5, 7]\n",
            "[4, 5]\n"
          ]
        }
      ]
    },
    {
      "cell_type": "code",
      "source": [
        "#Factorial program\n",
        "num = int(input(\"Enter number: \"))\n",
        "factorial = 1\n",
        "if num < 0:\n",
        "  print(\"Enter positive number\")\n",
        "elif num == 0:\n",
        "  print(\"Factorial is 1\")\n",
        "else:\n",
        "  for i in range(1, num+1):\n",
        "      factorial = factorial * i\n",
        "  print(\"factorial is:\" , factorial)\n"
      ],
      "metadata": {
        "id": "p9rKVmLUygHS",
        "outputId": "3ef40508-56d6-46db-fc88-49d62a1c9919",
        "colab": {
          "base_uri": "https://localhost:8080/"
        }
      },
      "execution_count": 26,
      "outputs": [
        {
          "output_type": "stream",
          "name": "stdout",
          "text": [
            "Enter number: 5\n",
            "factorial is: 120\n"
          ]
        }
      ]
    },
    {
      "cell_type": "code",
      "source": [
        "#continue\n",
        "name = ['rishu', 'aishu', 'Ram', 'Shubh']\n",
        "for i in name:\n",
        "  if len(i) == 3:\n",
        "    continue     #skip when condition satisfies\n",
        "  print(f'My name is {i}')"
      ],
      "metadata": {
        "id": "wvlp6DN00Z_W",
        "outputId": "2eaa5dbf-f141-4133-a293-fdb3fadb9b47",
        "colab": {
          "base_uri": "https://localhost:8080/"
        }
      },
      "execution_count": 1,
      "outputs": [
        {
          "output_type": "stream",
          "name": "stdout",
          "text": [
            "My name is rishu\n",
            "My name is aishu\n",
            "My name is Shubh\n"
          ]
        }
      ]
    },
    {
      "cell_type": "code",
      "source": [
        "#break - Out of loop when condition satisfies\n",
        "name = ['rishu', 'aishu', 'Ram', 'Shubh']\n",
        "for i in name:\n",
        "  if len(i) == 3:\n",
        "    break     #breaks when condition satisfies\n",
        "  print(f'My name is {i}')"
      ],
      "metadata": {
        "id": "I9PBVEyDFw6r",
        "outputId": "6ee48e2f-f988-4dbd-fc73-d60befff3701",
        "colab": {
          "base_uri": "https://localhost:8080/"
        }
      },
      "execution_count": 2,
      "outputs": [
        {
          "output_type": "stream",
          "name": "stdout",
          "text": [
            "My name is rishu\n",
            "My name is aishu\n"
          ]
        }
      ]
    },
    {
      "cell_type": "code",
      "source": [
        "#enumerate -Gives the indexed list. index and element in that place\n",
        "names = ['Rishu', \"Aayush\", 'Ram', 'Shubh']\n",
        "print(list(enumerate(names)))\n",
        "\n",
        "for i,j in enumerate(names):\n",
        "  print(\"index is {0} and value is {1}\".format(i,j))\n",
        ""
      ],
      "metadata": {
        "id": "r-7-kKmVGB9A",
        "outputId": "10142ed6-8421-4401-ee1e-f2b816ffc2ec",
        "colab": {
          "base_uri": "https://localhost:8080/"
        }
      },
      "execution_count": 13,
      "outputs": [
        {
          "output_type": "stream",
          "name": "stdout",
          "text": [
            "[(0, 'Rishu'), (1, 'Aayush'), (2, 'Ram'), (3, 'Shubh')]\n",
            "index is 0 and value is Rishu\n",
            "index is 1 and value is Aayush\n",
            "index is 2 and value is Ram\n",
            "index is 3 and value is Shubh\n"
          ]
        }
      ]
    },
    {
      "cell_type": "code",
      "source": [
        "#While\n",
        "i = 0\n",
        "while i < 10:\n",
        "  print(\"Numbe is :\", i)\n",
        "  i = i+1\n"
      ],
      "metadata": {
        "id": "BnBqPiBSLUlC",
        "outputId": "2dcda7cd-c5ec-4603-afe4-e1f9a7d0d497",
        "colab": {
          "base_uri": "https://localhost:8080/"
        }
      },
      "execution_count": 23,
      "outputs": [
        {
          "output_type": "stream",
          "name": "stdout",
          "text": [
            "Numbe is : 0\n",
            "Numbe is : 1\n",
            "Numbe is : 2\n",
            "Numbe is : 3\n",
            "Numbe is : 4\n",
            "Numbe is : 5\n",
            "Numbe is : 6\n",
            "Numbe is : 7\n",
            "Numbe is : 8\n",
            "Numbe is : 9\n"
          ]
        }
      ]
    },
    {
      "cell_type": "code",
      "source": [
        "#operators\n",
        "i = 0\n",
        "while i < 10:\n",
        "  pass  #will pass if condition satisfies\n",
        "  i = i+1\n",
        "print (\"**********\")\n",
        "j = 0\n",
        "while j< 10:\n",
        "  j = j+1\n",
        "  if j == 5:  #This makes j=5 will not print, but loop will continue after satisfying condition\n",
        "    continue\n",
        "  print ('Numbe is :', j)\n",
        "print(\"*************\")\n",
        "k = 0\n",
        "while k < 10:\n",
        "    k = k + 1\n",
        "    if k == 5:\n",
        "      break  #Once k =5 , loop will stop\n",
        "    print('Number : ', k)\n",
        "\n",
        "print(\"*********\")\n",
        "\n",
        "l = 0\n",
        "while l < 10:\n",
        "  print('Number is :' ,l)\n",
        "  l = l+1\n",
        "else :\n",
        "    print ('loop ended')"
      ],
      "metadata": {
        "id": "EpJOqxkiMx3m",
        "outputId": "b1b9a667-c710-42a5-df34-659d64597302",
        "colab": {
          "base_uri": "https://localhost:8080/"
        }
      },
      "execution_count": 38,
      "outputs": [
        {
          "output_type": "stream",
          "name": "stdout",
          "text": [
            "**********\n",
            "Numbe is : 1\n",
            "Numbe is : 2\n",
            "Numbe is : 3\n",
            "Numbe is : 4\n",
            "Numbe is : 6\n",
            "Numbe is : 7\n",
            "Numbe is : 8\n",
            "Numbe is : 9\n",
            "Numbe is : 10\n",
            "*************\n",
            "Number :  1\n",
            "Number :  2\n",
            "Number :  3\n",
            "Number :  4\n",
            "*********\n",
            "Number is : 0\n",
            "Number is : 1\n",
            "Number is : 2\n",
            "Number is : 3\n",
            "Number is : 4\n",
            "Number is : 5\n",
            "Number is : 6\n",
            "Number is : 7\n",
            "Number is : 8\n",
            "Number is : 9\n",
            "loop ended\n"
          ]
        }
      ]
    },
    {
      "cell_type": "code",
      "source": [
        "#Nested loops - one loop in another loop\n",
        "list1 = [[1,2,3,4], [5,6,7,8,9]]\n",
        "print(list1, '\\n')\n",
        "\n",
        "for i in list1:\n",
        "  for j in i:\n",
        "    print(f'Square of {j} is', j**2)\n",
        "  print ('\\n')"
      ],
      "metadata": {
        "id": "6w1KoeDrPjhZ",
        "outputId": "79bc4d3a-872d-45bf-80ab-cc01f22864f1",
        "colab": {
          "base_uri": "https://localhost:8080/"
        }
      },
      "execution_count": 41,
      "outputs": [
        {
          "output_type": "stream",
          "name": "stdout",
          "text": [
            "[[1, 2, 3, 4], [5, 6, 7, 8, 9]] \n",
            "\n",
            "Square of 1 is 1\n",
            "Square of 2 is 4\n",
            "Square of 3 is 9\n",
            "Square of 4 is 16\n",
            "\n",
            "\n",
            "Square of 5 is 25\n",
            "Square of 6 is 36\n",
            "Square of 7 is 49\n",
            "Square of 8 is 64\n",
            "Square of 9 is 81\n",
            "\n",
            "\n"
          ]
        }
      ]
    },
    {
      "cell_type": "code",
      "source": [
        "#Functions: 1, In built 2, User defined\n",
        "def sayHello():   #defining user defined function\n",
        "    print (\"hello world\") #print value\n",
        "\n",
        "sayHello()\n",
        "#function 1\n",
        "def hello(name, age, sal):\n",
        "  print('hi', name, 'age is', age, 'salary is', sal)\n",
        "hello('Sai', 25, 3333)\n",
        "\n",
        "#Add function\n",
        "def add(i,j):\n",
        "  return i+j\n",
        "print('Add: ', add(i = 2, j = 3))\n",
        "\n",
        "#practice\n",
        "def say(message, times):\n",
        "    print(message * times)\n",
        "say('World ', 5)"
      ],
      "metadata": {
        "id": "x_aCr1gmRsvQ",
        "outputId": "2fac8a87-8b1e-4810-d63e-a3aba70e4c07",
        "colab": {
          "base_uri": "https://localhost:8080/"
        }
      },
      "execution_count": 64,
      "outputs": [
        {
          "output_type": "stream",
          "name": "stdout",
          "text": [
            "hello world\n",
            "hi Sai age is 25 salary is 3333\n",
            "Add:  5\n",
            "World World World World World \n"
          ]
        }
      ]
    },
    {
      "cell_type": "code",
      "source": [
        "#global and local value\n",
        "x = 50  #global value\n",
        "def func(x):  #defining function\n",
        "  print('X is ', x)\n",
        "  x = 2  #local value\n",
        "  print('X changed to local value from global value', x)\n",
        "func(x)  #calling function which executes func(). If not called it will not executed func and print 'x' directly\n",
        "print('x is ', x)\n"
      ],
      "metadata": {
        "id": "_CD-DO9kavA_",
        "outputId": "7b4cabc1-00b1-4088-cafc-af339bad4db8",
        "colab": {
          "base_uri": "https://localhost:8080/"
        }
      },
      "execution_count": 65,
      "outputs": [
        {
          "output_type": "stream",
          "name": "stdout",
          "text": [
            "X is  50\n",
            "X changed to local value from global value 2\n",
            "x is  50\n"
          ]
        }
      ]
    },
    {
      "cell_type": "code",
      "source": [
        "#variable arguments in def function\n",
        "def func(*argv):  # '*' indicates variable arguments in function\n",
        "  for arg in argv:\n",
        "    print(arg)\n",
        "\n",
        "func('hello', 'sgs', 'sjhsus')\n",
        "print('********')\n",
        "\n",
        "# using keyword arguments\n",
        "def intro(**data): # keyword arg = data\n",
        "    print(\"\\n Data type is: \", type(data))\n",
        "\n",
        "    for key, value in data.items():\n",
        "      print(\"{} is {}\".format(key,value))\n",
        "\n",
        "intro(fisrt = \"sai\", Last = \"kaj\", number = 22333)\n",
        "print(\"******\")\n",
        "intro(hasw = 'jebf', jwsgwdye = 'ysdd', age = 23)\n"
      ],
      "metadata": {
        "id": "LiP6rRsDfTPJ",
        "outputId": "2879945f-04d2-4f26-afed-565403f38f1a",
        "colab": {
          "base_uri": "https://localhost:8080/"
        }
      },
      "execution_count": 76,
      "outputs": [
        {
          "output_type": "stream",
          "name": "stdout",
          "text": [
            "hello\n",
            "sgs\n",
            "sjhsus\n",
            "********\n",
            "\n",
            " Data type is:  <class 'dict'>\n",
            "fisrt is sai\n",
            "Last is kaj\n",
            "number is 22333\n",
            "******\n",
            "\n",
            " Data type is:  <class 'dict'>\n",
            "hasw is jebf\n",
            "jwsgwdye is ysdd\n",
            "age is 23\n"
          ]
        }
      ]
    },
    {
      "cell_type": "code",
      "source": [
        "#problem 1\n",
        "def total(initial = 5, *numbers, **keywords):\n",
        "  count = initial  #takes initial as 10, which is in called function\n",
        "  for number in numbers: #completes loop for numbers and final count is 16\n",
        "    count += number\n",
        "  for key in keywords: #completes loop for keywords and final is 16, 66, 66+100= 166\n",
        "    count += keywords[key]\n",
        "  return count # returns final count\n",
        "print(total(10,1,2,3, veg = 50, Nveg = 100))\n"
      ],
      "metadata": {
        "id": "LHK-k6v4kYa0",
        "outputId": "3cc01413-3e6c-4cfe-a69b-09a8c93ec519",
        "colab": {
          "base_uri": "https://localhost:8080/"
        }
      },
      "execution_count": 78,
      "outputs": [
        {
          "output_type": "stream",
          "name": "stdout",
          "text": [
            "166\n"
          ]
        }
      ]
    },
    {
      "cell_type": "code",
      "source": [
        "#declaring global variable with in function\n",
        "x = 5\n",
        "def new():\n",
        "  global x\n",
        "  x =10 # x global value is 10\n",
        "  print('number is', x)\n",
        "new()\n",
        "print(x)"
      ],
      "metadata": {
        "id": "r57X4lILtei3",
        "outputId": "dd5b764f-bf4a-4547-8157-c47ae10a253b",
        "colab": {
          "base_uri": "https://localhost:8080/"
        }
      },
      "execution_count": 79,
      "outputs": [
        {
          "output_type": "stream",
          "name": "stdout",
          "text": [
            "number is 10\n",
            "10\n"
          ]
        }
      ]
    },
    {
      "cell_type": "code",
      "source": [],
      "metadata": {
        "id": "zHx5zREkt_Ds"
      },
      "execution_count": null,
      "outputs": []
    }
  ]
}